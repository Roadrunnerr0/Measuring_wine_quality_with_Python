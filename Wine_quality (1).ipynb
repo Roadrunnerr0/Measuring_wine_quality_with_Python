{
 "cells": [
  {
   "cell_type": "code",
   "execution_count": null,
   "id": "dd8850b4",
   "metadata": {},
   "outputs": [],
   "source": [
    "import numpy as np\n",
    "import pandas as pd\n",
    "import matplotlib\n",
    "import matplotlib.pyplot as plt\n",
    "import seaborn as sns \n",
    "\n",
    "Wine_df = pd.read_csv(\"13-WineQT.csv\")"
   ]
  },
  {
   "cell_type": "markdown",
   "id": "c35adb69",
   "metadata": {},
   "source": [
    "1️⃣ Kütüphaneler ve Veri Seti:\n",
    "\n",
    "Önce araçlarımızı yüklüyoruz. Veri analizi için pandas, görselleştirme için matplotlib ve seaborn lazım. Ardından şarap veri setimizi Wine_df içine alıyoruz. Yani artık elimizde üzerinde çalışacağımız tablo hazır."
   ]
  },
  {
   "cell_type": "code",
   "execution_count": null,
   "id": "b246456c",
   "metadata": {},
   "outputs": [],
   "source": [
    "plt.figure(figsize=(10,6))\n",
    "sns.heatmap(Wine_df.corr(), annot=True)\n",
    "plt.show()"
   ]
  },
  {
   "cell_type": "markdown",
   "id": "1b707a80",
   "metadata": {},
   "source": [
    "2️⃣ Korelasyon Isı Haritası\n",
    "\n",
    "Değişkenlerin birbirleriyle nasıl ilişkili olduğuna bakıyoruz. Mesela alkol ile kalite arasında güçlü bir ilişki var mı, asidite ile pH gerçekten ters mi gidiyor gibi sorulara hızlı cevap almak istiyoruz. Bu yüzden korelasyon matrisini çıkarıp ısı haritasında görselleştiriyoruz."
   ]
  },
  {
   "cell_type": "code",
   "execution_count": null,
   "id": "17e0e2eb",
   "metadata": {},
   "outputs": [],
   "source": [
    "Wine_df[\"quality\"].value_counts().plot(kind=\"bar\")\n",
    "plt.xlabel(\"quality_score\")\n",
    "plt.ylabel(\"count\")\n",
    "plt.show()"
   ]
  },
  {
   "cell_type": "markdown",
   "id": "1378bd6d",
   "metadata": {},
   "source": [
    "3️⃣ Quality değerlerinin dağılımı (bar grafiği)\n",
    "\n",
    "Kalite puanlarının dağılımına bakıyoruz. Bizim sorumuz: veri dengeli mi? Örneğin çoğu şarap 5–6 puanda mı yoğunlaşmış yoksa yüksek kalite (7–8) şaraplar da yeterince var mı? Bu bize veri setinin yapısını anlatıyor."
   ]
  },
  {
   "cell_type": "code",
   "execution_count": null,
   "id": "d74db9df",
   "metadata": {},
   "outputs": [],
   "source": [
    "sns.boxplot(x=\"quality\", y=\"alcohol\", data=Wine_df)\n",
    "plt.show()"
   ]
  },
  {
   "cell_type": "markdown",
   "id": "34a61a5b",
   "metadata": {},
   "source": [
    "4️⃣ Quality değerine göre alcohol dağılımı (boxplot)\n",
    "\n",
    "Kutu grafiği ile her kalite grubundaki alkol dağılımını görüyoruz. Bizim sorumuz: kaliteli şaraplarda alkol seviyesi gerçekten daha mı yüksek? Boxplot sayesinde medyan ve aykırı değerleri de görebiliyoruz."
   ]
  },
  {
   "cell_type": "code",
   "execution_count": null,
   "id": "c6f3530b",
   "metadata": {},
   "outputs": [],
   "source": [
    "sns.histplot(Wine_df[\"pH\"])\n",
    "plt.show()"
   ]
  },
  {
   "cell_type": "markdown",
   "id": "62f0cebf",
   "metadata": {},
   "source": [
    "5️⃣ PH dağılımı (histogram)\n",
    "\n",
    "PH değerlerinin genel dağılımını inceliyoruz. Bizim beklentimiz, şarapların çoğunun pH’ının 3 ile 3.5 arasında olması. Histogram bize bunun gerçekten böyle olup olmadığını gösteriyor."
   ]
  },
  {
   "cell_type": "code",
   "execution_count": null,
   "id": "ca848199",
   "metadata": {},
   "outputs": [],
   "source": [
    "sns.scatterplot(x=\"pH\", y=\"alcohol\", hue=\"quality\", data=Wine_df)\n",
    "plt.show()"
   ]
  },
  {
   "cell_type": "markdown",
   "id": "4f1835ef",
   "metadata": {},
   "source": [
    "6️⃣ PH ve alcohol ilişkisi (renklendirme quality değerine göre)\n",
    "\n",
    "Biz üç şeyi aynı anda görmek istiyoruz: pH, alkol ve kalite. Noktaları kaliteye göre \n",
    "renklendirdiğimizde yüksek kaliteli şarapların genelde daha yüksek alkol seviyelerine sahip olup olmadığını kolayca görebiliyoruz."
   ]
  },
  {
   "cell_type": "code",
   "execution_count": null,
   "id": "e1f1d127",
   "metadata": {},
   "outputs": [],
   "source": [
    "sns.set_style(\"whitegrid\")\n",
    "sns.scatterplot(x=\"fixed acidity\", y=\"pH\", data=Wine_df)\n",
    "plt.xlabel(\"fixed acidity\")\n",
    "plt.ylabel(\"pH\")\n",
    "plt.title(\"fixed acidity v pH\")\n",
    "plt.show()"
   ]
  },
  {
   "cell_type": "code",
   "execution_count": null,
   "id": "1227c65f",
   "metadata": {},
   "outputs": [],
   "source": [
    "sns.scatterplot(x=\"fixed acidity\", y=\"density\", hue=\"quality\", data=Wine_df)\n",
    "plt.show()"
   ]
  },
  {
   "cell_type": "markdown",
   "id": "bed6d440",
   "metadata": {},
   "source": [
    "7️⃣Fixed acidity ve density ilişkisi (renklendirme quality değerine göre)\n",
    "\n",
    "Sabit asitlik ile yoğunluk arasındaki ilişkiye bakıyoruz. Renklerle de kaliteyi ayırıyoruz. Bizim amacımız: yoğunluk ve asidite birlikte kaliteyi ayırt etmede faydalı mı?"
   ]
  },
  {
   "cell_type": "markdown",
   "id": "4dc34e63",
   "metadata": {},
   "source": [
    "8️⃣ Fixed acidity ve pH ilişkisi\n",
    "\n",
    "Sabit asitlik ile pH değerini karşılaştırıyoruz. Bizim beklentimiz şu: asitlik yükseldikçe pH düşmeli.\n",
    "Bu grafiği çizerek, bu kimyasal ilişkinin veri setimizde de gerçekleşip gerçekleşmediğini görmek istiyoruz."
   ]
  },
  {
   "cell_type": "code",
   "execution_count": null,
   "id": "5c50151c",
   "metadata": {},
   "outputs": [],
   "source": [
    "sns.set_style(\"whitegrid\")\n",
    "sns.scatterplot(x=\"volatile acidity\", y=\"pH\", data=Wine_df)\n",
    "plt.xlabel(\"volatile acidity\")\n",
    "plt.ylabel(\"pH\")\n",
    "plt.title(\"volatile acidity v pH\")\n",
    "plt.show()"
   ]
  },
  {
   "cell_type": "markdown",
   "id": "b0064478",
   "metadata": {},
   "source": [
    "9️⃣ Volatile acidity ve pH ilişkisi\n",
    "\n",
    "Uçucu asitlik ile pH arasındaki ilişkiyi inceliyoruz. Uçucu asitlik şarabın kalitesini kötü etkileyebiliyor. Biz de bu değişkenin pH üzerinde nasıl bir rol oynadığını gözlemlemek istiyoruz."
   ]
  },
  {
   "cell_type": "code",
   "execution_count": null,
   "id": "eec12ffc",
   "metadata": {},
   "outputs": [],
   "source": [
    "sns.set_style(\"whitegrid\")\n",
    "sns.scatterplot(x=\"citric acid\", y=\"pH\", data=Wine_df)\n",
    "plt.xlabel(\"citric acid\")\n",
    "plt.ylabel(\"pH\")\n",
    "plt.title(\"citric acid v pH\")\n",
    "plt.show()"
   ]
  },
  {
   "cell_type": "markdown",
   "id": "82d22596",
   "metadata": {},
   "source": [
    "🔟 Citric acid ve pH ilişkisi\n",
    "\n",
    "Sitrik asit ile pH’ı karşılaştırıyoruz. Bizim merakımız şu: sitrik asit miktarı arttığında pH nasıl değişiyor? Çünkü bu asit şarabın tazelik hissini etkileyen önemli bir faktör."
   ]
  },
  {
   "cell_type": "code",
   "execution_count": null,
   "id": "f29df4f6",
   "metadata": {},
   "outputs": [],
   "source": [
    "columns = Wine_df.columns\n",
    "(fig, ax) = plt.subplots(4, 4, figsize=(16,15))\n",
    "ax = ax.flatten()\n",
    "\n",
    "for i, column in enumerate(columns):\n",
    "    sns.kdeplot(\n",
    "        data=Wine_df,\n",
    "        x=column,\n",
    "        hue=Wine_df.quality,\n",
    "        ax=ax[i] \n",
    "    )\n",
    "    ax[i].set_title(f\"{column} Distribution\")\n",
    "    ax[i].set_xlabel(None)\n",
    "\n",
    "for i in range(i+1, len(ax)):\n",
    "    ax[i].axis(\"off\")\n",
    "\n",
    "plt.show()"
   ]
  },
  {
   "cell_type": "markdown",
   "id": "a7efaeb9",
   "metadata": {},
   "source": [
    "1️⃣1️⃣ Tüm kolonların KDE dağılımları\n",
    "\n",
    "Biz veri setindeki her özelliğin dağılımını kaliteye göre görmek istiyoruz. KDE eğrileri sayesinde hangi özelliklerde yüksek kaliteli şarapların farklı bir dağılım gösterdiğini kolayca fark edebiliyoruz. Mesela alkol dağılımında yüksek kaliteli şarapların eğrisi sağa kayabilir."
   ]
  }
 ],
 "metadata": {
  "kernelspec": {
   "display_name": "Python 3",
   "language": "python",
   "name": "python3"
  },
  "language_info": {
   "codemirror_mode": {
    "name": "ipython",
    "version": 3
   },
   "file_extension": ".py",
   "mimetype": "text/x-python",
   "name": "python",
   "nbconvert_exporter": "python",
   "pygments_lexer": "ipython3",
   "version": "3.12.1"
  }
 },
 "nbformat": 4,
 "nbformat_minor": 5
}
